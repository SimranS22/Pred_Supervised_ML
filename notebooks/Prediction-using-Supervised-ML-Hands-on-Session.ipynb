{
 "cells": [
  {
   "cell_type": "markdown",
   "metadata": {},
   "source": [
    "# **PREDICTION USING SUPERVISED MACHINE LEARNING**\n",
    "\n",
    "This notebbok reads the data from `data/file.csv` and analyses this data to perform predictions.\n",
    "\n",
    "We will be answering 2 questions.\n",
    "\n",
    "1. Predict a student's accuracy(out of 100%) based on the number of hours they practice DSA.\n",
    "2. What will be the predicted accuracy if a student practices for 9.8 hours/day?\n"
   ]
  },
  {
   "cell_type": "markdown",
   "metadata": {},
   "source": [
    "#### **Step 1: Import all the required libraries**"
   ]
  },
  {
   "cell_type": "code",
   "execution_count": 2,
   "metadata": {},
   "outputs": [],
   "source": [
    "import numpy as np\n",
    "import pandas as pd\n",
    "import matplotlib.pyplot as plt\n",
    "from sklearn.model_selection import train_test_split\n",
    "from sklearn.linear_model import LinearRegression\n",
    "from sklearn.metrics import mean_absolute_error, mean_squared_error"
   ]
  },
  {
   "cell_type": "markdown",
   "metadata": {},
   "source": [
    "#### **Step 2: Read Dataset from CSV file**"
   ]
  },
  {
   "cell_type": "code",
   "execution_count": 3,
   "metadata": {},
   "outputs": [],
   "source": [
    "#read data from csv file and check whether it has been successfully imported or not\n",
    "sample_data=pd.read_csv('./../data/file.csv')"
   ]
  },
  {
   "cell_type": "code",
   "execution_count": 4,
   "metadata": {},
   "outputs": [
    {
     "data": {
      "text/html": [
       "<div>\n",
       "<style scoped>\n",
       "    .dataframe tbody tr th:only-of-type {\n",
       "        vertical-align: middle;\n",
       "    }\n",
       "\n",
       "    .dataframe tbody tr th {\n",
       "        vertical-align: top;\n",
       "    }\n",
       "\n",
       "    .dataframe thead th {\n",
       "        text-align: right;\n",
       "    }\n",
       "</style>\n",
       "<table border=\"1\" class=\"dataframe\">\n",
       "  <thead>\n",
       "    <tr style=\"text-align: right;\">\n",
       "      <th></th>\n",
       "      <th>Hours</th>\n",
       "      <th>Accuracy</th>\n",
       "    </tr>\n",
       "  </thead>\n",
       "  <tbody>\n",
       "    <tr>\n",
       "      <th>0</th>\n",
       "      <td>8.2</td>\n",
       "      <td>81</td>\n",
       "    </tr>\n",
       "    <tr>\n",
       "      <th>1</th>\n",
       "      <td>2.5</td>\n",
       "      <td>25</td>\n",
       "    </tr>\n",
       "    <tr>\n",
       "      <th>2</th>\n",
       "      <td>7.7</td>\n",
       "      <td>87</td>\n",
       "    </tr>\n",
       "    <tr>\n",
       "      <th>3</th>\n",
       "      <td>5.8</td>\n",
       "      <td>63</td>\n",
       "    </tr>\n",
       "    <tr>\n",
       "      <th>4</th>\n",
       "      <td>4.4</td>\n",
       "      <td>41</td>\n",
       "    </tr>\n",
       "  </tbody>\n",
       "</table>\n",
       "</div>"
      ],
      "text/plain": [
       "   Hours  Accuracy\n",
       "0    8.2        81\n",
       "1    2.5        25\n",
       "2    7.7        87\n",
       "3    5.8        63\n",
       "4    4.4        41"
      ]
     },
     "execution_count": 4,
     "metadata": {},
     "output_type": "execute_result"
    }
   ],
   "source": [
    "sample_data.head()"
   ]
  },
  {
   "cell_type": "code",
   "execution_count": 5,
   "metadata": {},
   "outputs": [
    {
     "data": {
      "text/html": [
       "<div>\n",
       "<style scoped>\n",
       "    .dataframe tbody tr th:only-of-type {\n",
       "        vertical-align: middle;\n",
       "    }\n",
       "\n",
       "    .dataframe tbody tr th {\n",
       "        vertical-align: top;\n",
       "    }\n",
       "\n",
       "    .dataframe thead th {\n",
       "        text-align: right;\n",
       "    }\n",
       "</style>\n",
       "<table border=\"1\" class=\"dataframe\">\n",
       "  <thead>\n",
       "    <tr style=\"text-align: right;\">\n",
       "      <th></th>\n",
       "      <th>Hours</th>\n",
       "      <th>Accuracy</th>\n",
       "    </tr>\n",
       "  </thead>\n",
       "  <tbody>\n",
       "    <tr>\n",
       "      <th>20</th>\n",
       "      <td>6.0</td>\n",
       "      <td>60</td>\n",
       "    </tr>\n",
       "    <tr>\n",
       "      <th>21</th>\n",
       "      <td>7.3</td>\n",
       "      <td>69</td>\n",
       "    </tr>\n",
       "    <tr>\n",
       "      <th>22</th>\n",
       "      <td>2.7</td>\n",
       "      <td>29</td>\n",
       "    </tr>\n",
       "    <tr>\n",
       "      <th>23</th>\n",
       "      <td>4.9</td>\n",
       "      <td>51</td>\n",
       "    </tr>\n",
       "    <tr>\n",
       "      <th>24</th>\n",
       "      <td>3.7</td>\n",
       "      <td>35</td>\n",
       "    </tr>\n",
       "  </tbody>\n",
       "</table>\n",
       "</div>"
      ],
      "text/plain": [
       "    Hours  Accuracy\n",
       "20    6.0        60\n",
       "21    7.3        69\n",
       "22    2.7        29\n",
       "23    4.9        51\n",
       "24    3.7        35"
      ]
     },
     "execution_count": 5,
     "metadata": {},
     "output_type": "execute_result"
    }
   ],
   "source": [
    "sample_data.tail()"
   ]
  },
  {
   "cell_type": "markdown",
   "metadata": {},
   "source": [
    "#### **Step 3: Represent the relationship between the data by plotting a graph**"
   ]
  },
  {
   "cell_type": "code",
   "execution_count": 6,
   "metadata": {},
   "outputs": [
    {
     "data": {
      "image/png": "[encoded data removed]",
      "text/plain": [
       "<Figure size 640x480 with 1 Axes>"
      ]
     },
     "metadata": {},
     "output_type": "display_data"
    }
   ],
   "source": [
    "#plot the graph and add labels\n",
    "sample_data.plot(x=\"Hours\",y=\"Accuracy\",style=\"b o\")\n",
    "plt.title(\"Relation between Hours of Practice and Accuracy of a Student\")\n",
    "plt.xlabel(\"Hours of Practice\")\n",
    "plt.ylabel(\"Accuracy Obtained\")\n",
    "plt.grid()\n",
    "plt.show()"
   ]
  },
  {
   "cell_type": "markdown",
   "metadata": {},
   "source": [
    "#### **Step 4: Use *corr()* method to determine actual correlation between the variables**"
   ]
  },
  {
   "cell_type": "code",
   "execution_count": 7,
   "metadata": {},
   "outputs": [
    {
     "data": {
      "text/html": [
       "<div>\n",
       "<style scoped>\n",
       "    .dataframe tbody tr th:only-of-type {\n",
       "        vertical-align: middle;\n",
       "    }\n",
       "\n",
       "    .dataframe tbody tr th {\n",
       "        vertical-align: top;\n",
       "    }\n",
       "\n",
       "    .dataframe thead th {\n",
       "        text-align: right;\n",
       "    }\n",
       "</style>\n",
       "<table border=\"1\" class=\"dataframe\">\n",
       "  <thead>\n",
       "    <tr style=\"text-align: right;\">\n",
       "      <th></th>\n",
       "      <th>Hours</th>\n",
       "      <th>Accuracy</th>\n",
       "    </tr>\n",
       "  </thead>\n",
       "  <tbody>\n",
       "    <tr>\n",
       "      <th>Hours</th>\n",
       "      <td>1.000000</td>\n",
       "      <td>0.981853</td>\n",
       "    </tr>\n",
       "    <tr>\n",
       "      <th>Accuracy</th>\n",
       "      <td>0.981853</td>\n",
       "      <td>1.000000</td>\n",
       "    </tr>\n",
       "  </tbody>\n",
       "</table>\n",
       "</div>"
      ],
      "text/plain": [
       "             Hours  Accuracy\n",
       "Hours     1.000000  0.981853\n",
       "Accuracy  0.981853  1.000000"
      ]
     },
     "execution_count": 7,
     "metadata": {},
     "output_type": "execute_result"
    }
   ],
   "source": [
    "sample_data.corr()"
   ]
  },
  {
   "cell_type": "markdown",
   "metadata": {},
   "source": [
    "#### **Step 5: Retrieve Attribute(Input) Values and Label(Output) Values**"
   ]
  },
  {
   "cell_type": "code",
   "execution_count": 8,
   "metadata": {},
   "outputs": [
    {
     "name": "stdout",
     "output_type": "stream",
     "text": [
      "X[Hours]\n",
      "[[8.2]\n",
      " [2.5]\n",
      " [7.7]\n",
      " [5.8]\n",
      " [4.4]\n",
      " [2.4]\n",
      " [5.3]\n",
      " [6.9]\n",
      " [7.8]\n",
      " [1.5]\n",
      " [9.4]\n",
      " [5.5]\n",
      " [3.5]\n",
      " [1.1]\n",
      " [9. ]\n",
      " [2.8]\n",
      " [1.9]\n",
      " [3.1]\n",
      " [8.8]\n",
      " [3.6]\n",
      " [6. ]\n",
      " [7.3]\n",
      " [2.7]\n",
      " [4.9]\n",
      " [3.7]]\n",
      "Y[Accuracy]\n",
      "[[81]\n",
      " [25]\n",
      " [87]\n",
      " [63]\n",
      " [41]\n",
      " [20]\n",
      " [49]\n",
      " [77]\n",
      " [86]\n",
      " [21]\n",
      " [90]\n",
      " [61]\n",
      " [39]\n",
      " [15]\n",
      " [87]\n",
      " [32]\n",
      " [22]\n",
      " [25]\n",
      " [80]\n",
      " [34]\n",
      " [60]\n",
      " [69]\n",
      " [29]\n",
      " [51]\n",
      " [35]]\n"
     ]
    }
   ],
   "source": [
    "#csvdataset.iloc[row, column]\n",
    "x=sample_data.iloc[:,:-1].values\n",
    "y=sample_data.iloc[:,1:].values\n",
    "print(\"X[Hours]\")\n",
    "print(x)\n",
    "print(\"Y[Accuracy]\")\n",
    "print(y)\n",
    "#print the data"
   ]
  },
  {
   "cell_type": "markdown",
   "metadata": {},
   "source": [
    "#### **Step 6: Split *sample_data* into Training Sets & Test Sets using Scikit-Learn's *train_test_split()* method**"
   ]
  },
  {
   "cell_type": "code",
   "execution_count": 9,
   "metadata": {},
   "outputs": [],
   "source": [
    "#The default test_size is 0.25. This means 25% of the data is testing data and 75% is training data\n",
    "X_train,X_test,y_train,y_test=train_test_split(x,y,random_state=50)"
   ]
  },
  {
   "cell_type": "markdown",
   "metadata": {},
   "source": [
    "#### **Step 7: Train the Model**"
   ]
  },
  {
   "cell_type": "code",
   "execution_count": 10,
   "metadata": {},
   "outputs": [
    {
     "name": "stdout",
     "output_type": "stream",
     "text": [
      "The model has been trained\n"
     ]
    }
   ],
   "source": [
    "#LinearRegression()\n",
    "lrf=LinearRegression().fit(X_train,y_train)\n",
    "print(\"The model has been trained\")\n"
   ]
  },
  {
   "cell_type": "markdown",
   "metadata": {},
   "source": [
    "#### **Step 8: Compare the plotted regression line with the actual values**"
   ]
  },
  {
   "cell_type": "code",
   "execution_count": null,
   "metadata": {},
   "outputs": [],
   "source": [
    "#Graph of Trained Model\n",
    "plt.scatter(X_train,y_train,color='blue')\n",
    "plt.plot(X_train,lrf.predict(X_train),color='green')\n",
    "plt.title(\"Relation between the Hours and Accuracy of a Student\")\n",
    "plt.xlabel(\"Hours of Practice\")\n",
    "plt.ylabel(\"Accuracy Obtained\")\n",
    "plt.grid()\n",
    "plt.show()"
   ]
  },
  {
   "cell_type": "markdown",
   "metadata": {},
   "source": [
    "#### **Step 9: Use predict() method to predict accuracy of student(test_set) and compare the predicted values with the actual values**"
   ]
  },
  {
   "cell_type": "markdown",
   "metadata": {},
   "source": [
    "**Table**"
   ]
  },
  {
   "cell_type": "code",
   "execution_count": 11,
   "metadata": {},
   "outputs": [
    {
     "name": "stdout",
     "output_type": "stream",
     "text": [
      "   Hours of practice  Actual Accuracy  Predicted Accuracy\n",
      "0                2.8               32           28.748576\n",
      "1                6.0               60           59.965166\n",
      "2                4.9               51           49.234463\n",
      "3                2.7               29           27.773057\n",
      "4                9.0               87           89.230719\n",
      "5                3.5               39           35.577205\n",
      "6                7.8               86           77.524498\n"
     ]
    }
   ],
   "source": [
    "#use dataframes\n",
    "y_predict=lrf.predict(X_test)\n",
    "df=pd.DataFrame({'Hours of practice':X_test[:,0],'Actual Accuracy':y_test[:,0],'Predicted Accuracy':y_predict[:,0]})\n",
    "print(df)\n"
   ]
  },
  {
   "cell_type": "markdown",
   "metadata": {},
   "source": [
    "**Visualisation**"
   ]
  },
  {
   "cell_type": "code",
   "execution_count": 12,
   "metadata": {},
   "outputs": [
    {
     "data": {
      "image/png": "[encoded data removed]",
      "text/plain": [
       "<Figure size 640x480 with 1 Axes>"
      ]
     },
     "metadata": {},
     "output_type": "display_data"
    }
   ],
   "source": [
    "#plot graph b/w predicted accuracy and actual accuracy\n",
    "\n",
    "plt.scatter(y_test,y_predict,color='green')\n",
    "plt.scatter(y_test,y_test,color='blue')\n",
    "plt.legend([\"Predicted Accuracy\", \"Actual Accuracy\"])\n",
    "plt.title(\"Relation between Actual Accuracy and Predicted Accuracy\")\n",
    "plt.xlabel(\"Actual Accuracy\")\n",
    "plt.ylabel(\"Predicted Accuracy\")\n",
    "plt.grid()\n",
    "plt.show()"
   ]
  },
  {
   "cell_type": "markdown",
   "metadata": {},
   "source": [
    "#### **Step 10: Predicting accuracy of the student using trained model**"
   ]
  },
  {
   "cell_type": "code",
   "execution_count": 13,
   "metadata": {},
   "outputs": [],
   "source": [
    "#equation of a line = y=mx+c where, m is the gradient and c is the intercept\n",
    "def pred_acc(x):\n",
    "  y=(lrf.coef_*x)+lrf.intercept_\n",
    "  print(\"The predicted accuracy that can be acheived if the student practices\",x,\"hours a day is\",round(float(y),6),\"%\")\n"
   ]
  },
  {
   "cell_type": "code",
   "execution_count": 17,
   "metadata": {},
   "outputs": [
    {
     "name": "stdout",
     "output_type": "stream",
     "text": [
      "The predicted accuracy that can be acheived if the student practices 9.8 hours a day is 97.034867 %\n"
     ]
    }
   ],
   "source": [
    "#call function\n",
    "x=float(input(\"Enter the number of Hours:\"))\n",
    "pred_acc(x)"
   ]
  },
  {
   "cell_type": "markdown",
   "metadata": {},
   "source": [
    "#### **Step 11: Model Evaluation**"
   ]
  },
  {
   "cell_type": "markdown",
   "metadata": {},
   "source": [
    "**Error Calculation**"
   ]
  },
  {
   "cell_type": "code",
   "execution_count": 15,
   "metadata": {},
   "outputs": [
    {
     "name": "stdout",
     "output_type": "stream",
     "text": [
      "Mean Absolute Error: 2.9153935470344865\n",
      "Mean Squared Error: 14.81732207143862\n"
     ]
    }
   ],
   "source": [
    "#Find the error between the actual values and the predicted values\n",
    "print(\"Mean Absolute Error:\",mean_absolute_error(y_test,y_predict))\n",
    "print(\"Mean Squared Error:\",mean_squared_error(y_test,y_predict))"
   ]
  },
  {
   "cell_type": "markdown",
   "metadata": {},
   "source": [
    "**Efficiency of the model**"
   ]
  },
  {
   "cell_type": "code",
   "execution_count": 16,
   "metadata": {},
   "outputs": [
    {
     "name": "stdout",
     "output_type": "stream",
     "text": [
      "96.09240422275076 %\n"
     ]
    }
   ],
   "source": [
    "#print efficiency\n",
    "accuracy=lrf.score(X_train,y_train)\n",
    "print(accuracy*100,\"%\")"
   ]
  }
 ],
 "metadata": {
  "kernelspec": {
   "display_name": "Python 3.10.4 64-bit",
   "language": "python",
   "name": "python3"
  },
  "language_info": {
   "codemirror_mode": {
    "name": "ipython",
    "version": 3
   },
   "file_extension": ".py",
   "mimetype": "text/x-python",
   "name": "python",
   "nbconvert_exporter": "python",
   "pygments_lexer": "ipython3",
   "version": "3.10.4"
  },
  "orig_nbformat": 4,
  "vscode": {
   "interpreter": {
    "hash": "3ad933181bd8a04b432d3370b9dc3b0662ad032c4dfaa4e4f1596c548f763858"
   }
  }
 },
 "nbformat": 4,
 "nbformat_minor": 2
}
